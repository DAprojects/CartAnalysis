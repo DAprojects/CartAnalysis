{
  "metadata": {
    "kernelspec": {
      "display_name": "Python 3",
      "language": "python",
      "name": "python3"
    },
    "language_info": {
      "codemirror_mode": {
        "name": "ipython",
        "version": 3
      },
      "file_extension": ".py",
      "mimetype": "text/x-python",
      "name": "python",
      "nbconvert_exporter": "python",
      "pygments_lexer": "ipython3",
      "version": "3.6.0"
    }
  },
  "nbformat": 4,
  "nbformat_minor": 0,
  "cells": [
    {
      "cell_type": "markdown",
      "source": "**The objective of this notebook is to explore data interactively with python Bokeh.**\n\n------------------------------------------------------------------------\n\nCredits: \n1. Used notebook published by another user to generate the goods table.\n2. Udemy Course on Interactive Data Visualization using Python and Bokeh by Ardit",
      "metadata": {}
    },
    {
      "cell_type": "code",
      "source": "import pandas as pd\nimport numpy as np\nimport os\nimport warnings\nfrom math import pi\nfrom bokeh.models import ColumnDataSource, Range1d\nwarnings.filterwarnings('ignore') # silence annoying warnings",
      "execution_count": null,
      "outputs": [],
      "metadata": {}
    },
    {
      "cell_type": "code",
      "source": "import os\npath = \"../\"\napp_input=\"../input\"\napp_output=\"../output\"\n# Check current working directory.\nprint (os.getcwd())\nprint(\"\\n\")\n\n# Now change the directory\nos.chdir( app_input )\n\n# Check current working directory.\nprint (\"Directory changed successfully \\n\")\nprint (os.getcwd())\n\n#print the list of csv files in the input folder\nfrom subprocess import check_output\nprint (\"\\n\")\nprint(check_output([\"ls\", \"../input\"]).decode(\"utf8\"))",
      "execution_count": null,
      "outputs": [],
      "metadata": {}
    },
    {
      "cell_type": "code",
      "source": "# aisles\naisles = pd.read_csv('../input/aisles.csv', engine='c')\nprint('Total aisles: {}'.format(aisles.shape[0]))\naisles.head()",
      "execution_count": null,
      "outputs": [],
      "metadata": {}
    },
    {
      "cell_type": "code",
      "source": "# departments\ndepartments = pd.read_csv('../input/departments.csv', engine='c')\nprint('Total departments: {}'.format(departments.shape[0]))\ndepartments.head()",
      "execution_count": null,
      "outputs": [],
      "metadata": {}
    },
    {
      "cell_type": "code",
      "source": "# products\nproducts = pd.read_csv('../input/products.csv', engine='c')\nprint('Total products: {}'.format(products.shape[0]))\nproducts.head(5)",
      "execution_count": null,
      "outputs": [],
      "metadata": {}
    },
    {
      "cell_type": "markdown",
      "source": "![instacartFiles.png](attachment:instacartFiles.png)# Datasets ER-Model (See this discussion)",
      "metadata": {}
    },
    {
      "cell_type": "code",
      "source": "# combine aisles, departments and products (left joined to products)\ngoods = pd.merge(left=pd.merge(left=products, right=departments, how='left'), right=aisles, how='left')\n# to retain '-' and make product names more \"standard\"\ngoods.product_name = goods.product_name.str.replace(' ', '_').str.lower() \n\ngoods.head()",
      "execution_count": null,
      "outputs": [],
      "metadata": {}
    },
    {
      "cell_type": "code",
      "source": "\"\"\"Note the concept of reset_index is important here. Without reset_index groupby values \nbecomes index instead of becomding a column.\nAlternatively, use as_index=False\"\"\"\n#df = pd.DataFrame(goods.groupby(['department']).count()['product_id','aisle_id'].sort_values(ascending=False)).reset_index()\ngb = goods.groupby(['department']).agg({\n    \"product_id\": pd.Series.nunique, \"aisle_id\": pd.Series.nunique}).rename(columns={\n    'product_id': 'count_products_by_dept', 'aisle_id': 'count_aisle_by_dept'})\ndf = pd.DataFrame(gb).reset_index()\nsource = ColumnDataSource(df)\ndf.head()",
      "execution_count": null,
      "outputs": [],
      "metadata": {}
    },
    {
      "cell_type": "code",
      "source": "\nfrom bokeh.layouts import gridplot\nfrom bokeh.plotting import figure, show, output_notebook\nfrom bokeh.palettes import all_palettes as alp\nfrom bokeh.models import Range1d, PanTool, ResetTool, HoverTool\n\n#x_range displays the labels for the x axis\np1 = figure(title=\"No of Products by Department\",background_fill_color=\"#E8DDCB\",x_range=list(df[\"department\"]),\n            tools=\"pan,lasso_select,reset\", active_drag=\"lasso_select\",)\np2 = figure(title=\"No of Aisles by Department\",background_fill_color=\"#E8DDCB\",x_range=list(df[\"department\"]),\n            tools=\"pan,lasso_select,reset\", active_drag=\"lasso_select\",)\n\n\n\n#very imp concept here. We are placing the major ticks using the width list\nwidth = [index+.5 for index,dep in enumerate(df.department)]\np1.quad(top=\"count_products_by_dept\", bottom=0, left=width[:-1], right=width[1:],\n        #fill_color=\"#036564\", legend=\"department\",source=source)\n        fill_color=\"#036564\", source=source)\n\np2.quad(top=\"count_aisle_by_dept\", bottom=0, left=width[:-1], right=width[1:],\n        #fill_color=\"#036564\", legend=\"department\",source=source)\n        fill_color=\"#036564\", source=source)\n\n\n\n#style the axis\np1.xaxis.major_label_orientation = pi/2 #we want to display the vertical text using this \np1.xaxis.axis_label = 'Departments'\np1.yaxis.axis_label = 'Number of Products'\n\np2.xaxis.major_label_orientation = pi/2 #we want to display the vertical text using this \np2.xaxis.axis_label = 'Departments'\np2.yaxis.axis_label = 'Number of Aisle'\n\n\noutput_notebook()\n\nshow(gridplot(p1,p2, ncols=2, plot_width=400, plot_height=400),notebook_handle=True)",
      "execution_count": null,
      "outputs": [],
      "metadata": {}
    }
  ]
}